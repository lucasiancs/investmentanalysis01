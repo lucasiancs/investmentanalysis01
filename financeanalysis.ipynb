{
 "cells": [
  {
   "cell_type": "code",
   "execution_count": 2,
   "metadata": {},
   "outputs": [
    {
     "name": "stderr",
     "output_type": "stream",
     "text": [
      "C:\\Users\\lucas\\anaconda3\\lib\\site-packages\\pandas_datareader\\compat\\__init__.py:7: FutureWarning: pandas.util.testing is deprecated. Use the functions in the public API at pandas.testing instead.\n",
      "  from pandas.util.testing import assert_frame_equal\n"
     ]
    }
   ],
   "source": [
    "import numpy as np\n",
    "import pandas as pd\n",
    "import matplotlib.pyplot as plt\n",
    "import pandas_datareader.data as web\n",
    "import datetime as datetime"
   ]
  },
  {
   "cell_type": "markdown",
   "metadata": {},
   "source": [
    "First, you should chose which company you want to analyze. Then you will choose 2 dates (YYYY-MM-DD) that will be the span for analyzing."
   ]
  },
  {
   "cell_type": "code",
   "execution_count": 11,
   "metadata": {},
   "outputs": [
    {
     "name": "stdout",
     "output_type": "stream",
     "text": [
      "Insert company here:JBSS3.SA\n",
      "Choose the start date:2020-01-01\n",
      "Choose the ende date:2020-08-01\n"
     ]
    }
   ],
   "source": [
    "company = input(str('Insert company here:'))\n",
    "start = input('Choose the start date:')\n",
    "end = input('Choose the ende date:')"
   ]
  },
  {
   "cell_type": "markdown",
   "metadata": {},
   "source": [
    "Now, I will extract the company's information in a dataframe from Yahoo Finance."
   ]
  },
  {
   "cell_type": "code",
   "execution_count": 12,
   "metadata": {},
   "outputs": [],
   "source": [
    "stock = web.DataReader(company,'yahoo',start,end)"
   ]
  },
  {
   "cell_type": "markdown",
   "metadata": {},
   "source": [
    "To get a good analysis on a stock, we should look at 4 things:\n",
    "    1) Price / Book Value\n",
    "    2) Price / Profit\n",
    "    3) ROE (Return on Equity)\n",
    "    4) DY"
   ]
  },
  {
   "cell_type": "markdown",
   "metadata": {},
   "source": [
    "We will start with Price/Book Value"
   ]
  },
  {
   "cell_type": "code",
   "execution_count": 13,
   "metadata": {},
   "outputs": [
    {
     "data": {
      "text/html": [
       "<div>\n",
       "<style scoped>\n",
       "    .dataframe tbody tr th:only-of-type {\n",
       "        vertical-align: middle;\n",
       "    }\n",
       "\n",
       "    .dataframe tbody tr th {\n",
       "        vertical-align: top;\n",
       "    }\n",
       "\n",
       "    .dataframe thead th {\n",
       "        text-align: right;\n",
       "    }\n",
       "</style>\n",
       "<table border=\"1\" class=\"dataframe\">\n",
       "  <thead>\n",
       "    <tr style=\"text-align: right;\">\n",
       "      <th></th>\n",
       "      <th>High</th>\n",
       "      <th>Low</th>\n",
       "      <th>Open</th>\n",
       "      <th>Close</th>\n",
       "      <th>Volume</th>\n",
       "      <th>Adj Close</th>\n",
       "    </tr>\n",
       "    <tr>\n",
       "      <th>Date</th>\n",
       "      <th></th>\n",
       "      <th></th>\n",
       "      <th></th>\n",
       "      <th></th>\n",
       "      <th></th>\n",
       "      <th></th>\n",
       "    </tr>\n",
       "  </thead>\n",
       "  <tbody>\n",
       "    <tr>\n",
       "      <th>2020-07-22</th>\n",
       "      <td>22.540001</td>\n",
       "      <td>21.680000</td>\n",
       "      <td>22.350000</td>\n",
       "      <td>22.059999</td>\n",
       "      <td>12814000.0</td>\n",
       "      <td>22.059999</td>\n",
       "    </tr>\n",
       "    <tr>\n",
       "      <th>2020-07-23</th>\n",
       "      <td>23.000000</td>\n",
       "      <td>22.059999</td>\n",
       "      <td>22.059999</td>\n",
       "      <td>22.360001</td>\n",
       "      <td>24291800.0</td>\n",
       "      <td>22.360001</td>\n",
       "    </tr>\n",
       "    <tr>\n",
       "      <th>2020-07-24</th>\n",
       "      <td>22.360001</td>\n",
       "      <td>21.750000</td>\n",
       "      <td>22.299999</td>\n",
       "      <td>22.070000</td>\n",
       "      <td>12906100.0</td>\n",
       "      <td>22.070000</td>\n",
       "    </tr>\n",
       "    <tr>\n",
       "      <th>2020-07-27</th>\n",
       "      <td>22.260000</td>\n",
       "      <td>21.709999</td>\n",
       "      <td>22.160000</td>\n",
       "      <td>21.980000</td>\n",
       "      <td>11747100.0</td>\n",
       "      <td>21.980000</td>\n",
       "    </tr>\n",
       "    <tr>\n",
       "      <th>2020-07-28</th>\n",
       "      <td>22.340000</td>\n",
       "      <td>21.719999</td>\n",
       "      <td>22.000000</td>\n",
       "      <td>22.250000</td>\n",
       "      <td>13069400.0</td>\n",
       "      <td>22.250000</td>\n",
       "    </tr>\n",
       "    <tr>\n",
       "      <th>2020-07-29</th>\n",
       "      <td>22.559999</td>\n",
       "      <td>22.110001</td>\n",
       "      <td>22.260000</td>\n",
       "      <td>22.170000</td>\n",
       "      <td>10128300.0</td>\n",
       "      <td>22.170000</td>\n",
       "    </tr>\n",
       "    <tr>\n",
       "      <th>2020-07-30</th>\n",
       "      <td>22.500000</td>\n",
       "      <td>21.719999</td>\n",
       "      <td>22.000000</td>\n",
       "      <td>21.969999</td>\n",
       "      <td>11242100.0</td>\n",
       "      <td>21.969999</td>\n",
       "    </tr>\n",
       "    <tr>\n",
       "      <th>2020-07-31</th>\n",
       "      <td>22.090000</td>\n",
       "      <td>21.459999</td>\n",
       "      <td>22.049999</td>\n",
       "      <td>21.540001</td>\n",
       "      <td>11953200.0</td>\n",
       "      <td>21.540001</td>\n",
       "    </tr>\n",
       "  </tbody>\n",
       "</table>\n",
       "</div>"
      ],
      "text/plain": [
       "                 High        Low       Open      Close      Volume  Adj Close\n",
       "Date                                                                         \n",
       "2020-07-22  22.540001  21.680000  22.350000  22.059999  12814000.0  22.059999\n",
       "2020-07-23  23.000000  22.059999  22.059999  22.360001  24291800.0  22.360001\n",
       "2020-07-24  22.360001  21.750000  22.299999  22.070000  12906100.0  22.070000\n",
       "2020-07-27  22.260000  21.709999  22.160000  21.980000  11747100.0  21.980000\n",
       "2020-07-28  22.340000  21.719999  22.000000  22.250000  13069400.0  22.250000\n",
       "2020-07-29  22.559999  22.110001  22.260000  22.170000  10128300.0  22.170000\n",
       "2020-07-30  22.500000  21.719999  22.000000  21.969999  11242100.0  21.969999\n",
       "2020-07-31  22.090000  21.459999  22.049999  21.540001  11953200.0  21.540001"
      ]
     },
     "execution_count": 13,
     "metadata": {},
     "output_type": "execute_result"
    }
   ],
   "source": [
    "stock.tail(8)"
   ]
  },
  {
   "cell_type": "code",
   "execution_count": 14,
   "metadata": {},
   "outputs": [
    {
     "data": {
      "text/plain": [
       "<matplotlib.axes._subplots.AxesSubplot at 0x2e0e59a6fc8>"
      ]
     },
     "execution_count": 14,
     "metadata": {},
     "output_type": "execute_result"
    },
    {
     "data": {
      "image/png": "[encoded data removed]",
      "text/plain": [
       "<Figure size 576x216 with 1 Axes>"
      ]
     },
     "metadata": {
      "needs_background": "light"
     },
     "output_type": "display_data"
    }
   ],
   "source": [
    "prices = stock['Adj Close']\n",
    "prices.plot(figsize=(8,3))"
   ]
  },
  {
   "cell_type": "code",
   "execution_count": null,
   "metadata": {},
   "outputs": [],
   "source": []
  }
 ],
 "metadata": {
  "kernelspec": {
   "display_name": "Python 3",
   "language": "python",
   "name": "python3"
  },
  "language_info": {
   "codemirror_mode": {
    "name": "ipython",
    "version": 3
   },
   "file_extension": ".py",
   "mimetype": "text/x-python",
   "name": "python",
   "nbconvert_exporter": "python",
   "pygments_lexer": "ipython3",
   "version": "3.7.6"
  }
 },
 "nbformat": 4,
 "nbformat_minor": 4
}
